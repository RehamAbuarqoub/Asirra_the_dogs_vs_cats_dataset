{
 "cells": [
  {
   "cell_type": "markdown",
   "metadata": {},
   "source": [
    "## Asirra: The Dogs vs. Cats Dataset\n",
    "\n",
    "* [Published](https://www.microsoft.com/en-us/research/publication/asirra-a-captcha-that-exploits-interest-aligned-manual-image-categorization/) in 2007 by Microsoft.\n",
    "* This dataset appears in Chollet, Deep Learing with Python 2nd edition, chapter 8 (book and associated notebook). "
   ]
  },
  {
   "attachments": {},
   "cell_type": "markdown",
   "metadata": {},
   "source": [
    "The dataset can be obtained from:\n",
    "* [Dogs versus Cats](https://www.kaggle.com/c/dogs-vs-cats) - The Kaggle competition\n",
    "* [The Dataset](https://www.kaggle.com/datasets/biaiscience/dogs-vs-cats) (with an Open Data license)\n",
    "\n",
    "See the competition page for a nice introduction to the competition. Here is a description of the dataset taken from there:\n",
    "\n",
    "> ### The Asirra data set\n",
    ">Web services are often protected with a challenge that's supposed to be easy for people to solve, but difficult for computers. Such a challenge is often called a CAPTCHA (Completely Automated Public Turing test to tell Computers and Humans Apart). CAPTCHAs are used for many purposes, such as to reduce email and blog spam and prevent brute-force attacks on web site passwords.\n",
    "\n",
    ">Asirra (Animal Species Image Recognition for Restricting Access) is a CAPTCHA that works by asking users to identify photographs of cats and dogs. This task is difficult for computers, but studies have shown that people can accomplish it quickly and accurately. Many even think it's fun! Here is an example of the Asirra interface:\n",
    "\n",
    ">Asirra is unique because of its partnership with Petfinder.com, the world's largest site devoted to finding homes for homeless pets. They've provided Microsoft Research with over three million images of cats and dogs, manually classified by people at thousands of animal shelters across the United States. Kaggle is fortunate to offer a subset of this data for fun and research. "
   ]
  },
  {
   "cell_type": "markdown",
   "metadata": {},
   "source": [
    "1. Download the dataset from Kaggle.\n",
    "2. Extract `train.zip` into a folder of your choice.  You should have **25,000** images, of about 600MB. The folder could be part of the repository, e.g.  `./data/kaggle_dogs_vs_cats/` . By the way, if you save it in the `./data/` folder it won't be tracked with Git, given that this folder appears in the `.gitignore` file. This is preferred, since `Git` and `Github` are not intended as data repositories.\n",
    "3. run the following code to create a small dataset of 1000 training images, 500 validation images and 1000 test images *per class*. This reduces the dataset from 25,000 images to 5000.\n",
    "4. You can manually delete the larger dataset as well as the zip file."
   ]
  },
  {
   "cell_type": "code",
   "execution_count": 2,
   "metadata": {},
   "outputs": [],
   "source": [
    "import os, shutil, pathlib\n",
    "\n",
    "original_dir = pathlib.Path(\"../data/kaggle_dogs_vs_cats/train\")\n",
    "new_base_dir = pathlib.Path(\"../data/kaggle_dogs_vs_cats_small\")\n",
    "\n",
    "def make_subset(subset_name, start_index, end_index):\n",
    "    for category in (\"cat\", \"dog\"):\n",
    "        dir = new_base_dir / subset_name / category\n",
    "        os.makedirs(dir)\n",
    "        fnames = [f\"{category}.{i}.jpg\" for i in range(start_index, end_index)]\n",
    "        for fname in fnames:\n",
    "            shutil.copyfile(src=original_dir / fname,\n",
    "                            dst=dir / fname)\n",
    "\n",
    "make_subset(\"train\", start_index=0, end_index=1000)\n",
    "make_subset(\"validation\", start_index=1000, end_index=1500)\n",
    "make_subset(\"test\", start_index=1500, end_index=2500)"
   ]
  },
  {
   "cell_type": "markdown",
   "metadata": {},
   "source": [
    "**To the Student**: Explore the data:\n",
    "* Randmoly scroll through the images. Any notable insights from the perspective of training and testing? \n",
    "* What is the size in pixels of the images? \n",
    "* What color scheme (grayscale, RGB, other) are they coded in?"
   ]
  },
  {
   "cell_type": "code",
   "execution_count": 2,
   "metadata": {},
   "outputs": [
    {
     "name": "stdout",
     "output_type": "stream",
     "text": [
      "\n",
      "📊 Exploring a few cat images:\n",
      "Image: cat.0.jpg\n",
      " - Size: (500, 374) (width x height)\n",
      " - Mode: RGB (Color scheme: RGB or Grayscale?)\n",
      "Image: cat.1.jpg\n",
      " - Size: (300, 280) (width x height)\n",
      " - Mode: RGB (Color scheme: RGB or Grayscale?)\n",
      "Image: cat.1000.jpg\n",
      " - Size: (150, 149) (width x height)\n",
      " - Mode: RGB (Color scheme: RGB or Grayscale?)\n",
      "Image: cat.10004.jpg\n",
      " - Size: (320, 239) (width x height)\n",
      " - Mode: RGB (Color scheme: RGB or Grayscale?)\n",
      "Image: cat.10007.jpg\n",
      " - Size: (219, 300) (width x height)\n",
      " - Mode: RGB (Color scheme: RGB or Grayscale?)\n",
      "\n",
      "📊 Exploring a few dog images:\n",
      "Image: dog.0.jpg\n",
      " - Size: (499, 375) (width x height)\n",
      " - Mode: RGB (Color scheme: RGB or Grayscale?)\n",
      "Image: dog.10000.jpg\n",
      " - Size: (263, 412) (width x height)\n",
      " - Mode: RGB (Color scheme: RGB or Grayscale?)\n",
      "Image: dog.10012.jpg\n",
      " - Size: (500, 402) (width x height)\n",
      " - Mode: RGB (Color scheme: RGB or Grayscale?)\n",
      "Image: dog.10014.jpg\n",
      " - Size: (399, 490) (width x height)\n",
      " - Mode: RGB (Color scheme: RGB or Grayscale?)\n",
      "Image: dog.10028.jpg\n",
      " - Size: (500, 374) (width x height)\n",
      " - Mode: RGB (Color scheme: RGB or Grayscale?)\n"
     ]
    }
   ],
   "source": [
    "import os\n",
    "import shutil\n",
    "import random\n",
    "from PIL import Image\n",
    "import matplotlib.pyplot as plt\n",
    "\n",
    "# Path to the original dataset\n",
    "original_dataset_dir = r\".\\data\\train\\train\"\n",
    "\n",
    "# Base directory for the smaller dataset\n",
    "base_dir = r\".\\data\\cats_and_dogs_small\"\n",
    "os.makedirs(base_dir, exist_ok=True)\n",
    "\n",
    "# Create subdirectories for train, validation, and test splits\n",
    "splits = ['train', 'validation', 'test']\n",
    "classes = ['cats', 'dogs']\n",
    "split_sizes = {'train': 1000, 'validation': 500, 'test': 1000}\n",
    "\n",
    "for split in splits:\n",
    "    for category in classes:\n",
    "        dir_path = os.path.join(base_dir, split, category)\n",
    "        os.makedirs(dir_path, exist_ok=True)\n",
    "\n",
    "# Split the dataset\n",
    "def copy_images():\n",
    "    for category in classes:\n",
    "        fnames = [f for f in os.listdir(original_dataset_dir) if f.startswith(category[:-1])]\n",
    "        random.shuffle(fnames)\n",
    "\n",
    "        start = 0\n",
    "        for split in splits:\n",
    "            n = split_sizes[split]\n",
    "            split_fnames = fnames[start:start + n]\n",
    "            for fname in split_fnames:\n",
    "                src = os.path.join(original_dataset_dir, fname)\n",
    "                dst = os.path.join(base_dir, split, category, fname)\n",
    "                shutil.copyfile(src, dst)\n",
    "            start += n\n",
    "\n",
    "# Only run once\n",
    "copy_images()\n",
    "\n",
    "# Data exploration\n",
    "def explore_images(image_folder):\n",
    "    sample_images = os.listdir(image_folder)[:5]\n",
    "    for img_file in sample_images:\n",
    "        img_path = os.path.join(image_folder, img_file)\n",
    "        with Image.open(img_path) as img:\n",
    "            print(f\"Image: {img_file}\")\n",
    "            print(f\" - Size: {img.size} (width x height)\")\n",
    "            print(f\" - Mode: {img.mode} (Color scheme: RGB or Grayscale?)\")\n",
    "            img.show()\n",
    "\n",
    "print(\"\\n📊 Exploring a few cat images:\")\n",
    "explore_images(os.path.join(base_dir, 'train', 'cats'))\n",
    "\n",
    "print(\"\\n📊 Exploring a few dog images:\")\n",
    "explore_images(os.path.join(base_dir, 'train', 'dogs'))\n",
    "\n"
   ]
  }
 ],
 "metadata": {
  "kernelspec": {
   "display_name": "Python 3",
   "language": "python",
   "name": "python3"
  },
  "language_info": {
   "codemirror_mode": {
    "name": "ipython",
    "version": 3
   },
   "file_extension": ".py",
   "mimetype": "text/x-python",
   "name": "python",
   "nbconvert_exporter": "python",
   "pygments_lexer": "ipython3",
   "version": "3.12.9"
  },
  "orig_nbformat": 4
 },
 "nbformat": 4,
 "nbformat_minor": 2
}
